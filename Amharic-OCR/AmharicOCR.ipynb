{
  "nbformat": 4,
  "nbformat_minor": 0,
  "metadata": {
    "colab": {
      "name": "AmharicOCR.ipynb",
      "provenance": []
    },
    "kernelspec": {
      "name": "python3",
      "display_name": "Python 3"
    },
    "language_info": {
      "name": "python"
    }
  },
  "cells": [
    {
      "cell_type": "markdown",
      "source": [
        "Step1. Install Pytesseract and tesseract-OCR in Google Colab.\n",
        "\n",
        "Its based on: https://bhadreshpsavani.medium.com/how-to-use-tesseract-library-for-ocr-in-google-colab-notebook-5da5470e4fe0\n",
        "\n",
        "Image link: http://gzamargna.net/html/amargnamezgebeqalat_149.html"
      ],
      "metadata": {
        "id": "KODvagIZDJZL"
      }
    },
    {
      "cell_type": "code",
      "source": [
        "!sudo apt install tesseract-ocr\n",
        "!pip install pytesseract"
      ],
      "metadata": {
        "id": "KuVurSVYXA_b",
        "colab": {
          "base_uri": "https://localhost:8080/"
        },
        "outputId": "f55f5cf9-c3cc-4779-8175-ec900b7ebd04"
      },
      "execution_count": 1,
      "outputs": [
        {
          "output_type": "stream",
          "name": "stdout",
          "text": [
            "Reading package lists... Done\n",
            "Building dependency tree       \n",
            "Reading state information... Done\n",
            "tesseract-ocr is already the newest version (4.00~git2288-10f4998a-2).\n",
            "The following package was automatically installed and is no longer required:\n",
            "  libnvidia-common-460\n",
            "Use 'sudo apt autoremove' to remove it.\n",
            "0 upgraded, 0 newly installed, 0 to remove and 49 not upgraded.\n",
            "Looking in indexes: https://pypi.org/simple, https://us-python.pkg.dev/colab-wheels/public/simple/\n",
            "Requirement already satisfied: pytesseract in /usr/local/lib/python3.7/dist-packages (0.3.9)\n",
            "Requirement already satisfied: Pillow>=8.0.0 in /usr/local/lib/python3.7/dist-packages (from pytesseract) (9.2.0)\n",
            "Requirement already satisfied: packaging>=21.3 in /usr/local/lib/python3.7/dist-packages (from pytesseract) (21.3)\n",
            "Requirement already satisfied: pyparsing!=3.0.5,>=2.0.2 in /usr/local/lib/python3.7/dist-packages (from packaging>=21.3->pytesseract) (3.0.9)\n"
          ]
        }
      ]
    },
    {
      "cell_type": "markdown",
      "source": [
        "Step2. import libraries"
      ],
      "metadata": {
        "id": "hMGzWYNvDNdU"
      }
    },
    {
      "cell_type": "code",
      "source": [
        "import pytesseract\n",
        "import shutil\n",
        "import os\n",
        "import random\n",
        "from PIL import Image"
      ],
      "metadata": {
        "id": "FxNKR8aCY9KZ"
      },
      "execution_count": 2,
      "outputs": []
    },
    {
      "cell_type": "markdown",
      "source": [
        "Step3. Upload Image to the Colab"
      ],
      "metadata": {
        "id": "XZdXUIpZDUzI"
      }
    },
    {
      "cell_type": "code",
      "source": [
        "from google.colab import files\n",
        "uploaded = files.upload()"
      ],
      "metadata": {
        "id": "6b51uOxddkL7",
        "colab": {
          "resources": {
            "http://localhost:8080/nbextensions/google.colab/files.js": {
              "data": "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",
              "ok": true,
              "headers": [
                [
                  "content-type",
                  "application/javascript"
                ]
              ],
              "status": 200,
              "status_text": ""
            }
          },
          "base_uri": "https://localhost:8080/",
          "height": 73
        },
        "outputId": "53678323-80c1-4888-ef1e-608caf823a28"
      },
      "execution_count": 3,
      "outputs": [
        {
          "output_type": "display_data",
          "data": {
            "text/plain": [
              "<IPython.core.display.HTML object>"
            ],
            "text/html": [
              "\n",
              "     <input type=\"file\" id=\"files-270d983f-1b78-4789-b874-df135f1fab08\" name=\"files[]\" multiple disabled\n",
              "        style=\"border:none\" />\n",
              "     <output id=\"result-270d983f-1b78-4789-b874-df135f1fab08\">\n",
              "      Upload widget is only available when the cell has been executed in the\n",
              "      current browser session. Please rerun this cell to enable.\n",
              "      </output>\n",
              "      <script src=\"/nbextensions/google.colab/files.js\"></script> "
            ]
          },
          "metadata": {}
        },
        {
          "output_type": "stream",
          "name": "stdout",
          "text": [
            "Saving n_amargnaMezgebeQalat_194.gif to n_amargnaMezgebeQalat_194.gif\n"
          ]
        }
      ]
    },
    {
      "cell_type": "markdown",
      "source": [
        "Step4. Text Extraction"
      ],
      "metadata": {
        "id": "tsxz7O7qDfGI"
      }
    },
    {
      "cell_type": "code",
      "source": [
        "image_path_in_colab='n_amargnaMezgebeQalat_194.gif'\n",
        "extractedInformation = pytesseract.image_to_string(Image.open(image_path_in_colab))\n",
        "print(extractedInformation)"
      ],
      "metadata": {
        "id": "-p6eDzNjd3g-",
        "colab": {
          "base_uri": "https://localhost:8080/"
        },
        "outputId": "a2822ba2-38d0-490b-8d3f-c898ee58b599"
      },
      "execution_count": 4,
      "outputs": [
        {
          "output_type": "stream",
          "name": "stdout",
          "text": [
            "RG Née i—NeH 5\n",
            "\n",
            "ANGE (WAL) | xonen agers\n",
            "ARELT # NULG # NARA + APRA E AAG? +\n",
            "Anes.\n",
            "\n",
            "ANGE Fant 777 * Ad Iw #\n",
            "\n",
            "ANGE: 2 enak + PRL + 8m\n",
            "gene § APur ic #\n",
            "\n",
            "Adige FE nec it 4s OSE tO\n",
            "Put AGd #\n",
            "\n",
            "PINAR: i opened +s Ine #\n",
            "\n",
            "ANCE + (PP) i wigs oieads\n",
            "DIRE PPE PAE DAP AL: SOP CA\n",
            "MES § COA * TEUE * POT! TCL #\n",
            "\n",
            " \n",
            "\n",
            "wey +\n",
            "\n",
            "ANGLE. F mann: ANZeIAEE DAH\n",
            "\n",
            "ANAS = (ANCES) £ anenen i\n",
            "AANA ENTAICE * NTA PHPU * ADR #\n",
            "\n",
            "ANNE! ganar: eagancs + 97,\n",
            "sancu #\n",
            "\n",
            "UNS FE erhdutu + ranen #\n",
            "\n",
            "PUMNGH § ether + eranenr «\n",
            "\n",
            "TAS F rncn s theen i tAhor i\n",
            "PALA T RRAN COOTER 1 oop o\n",
            "\n",
            "PN § ognge s Aen »\n",
            "\n",
            "PIE  oognene + oonee «\n",
            "\n",
            "ANG Engen: Adena EARHeD =\n",
            "\n",
            "ANG-2K i nbnan 1 comes Nek:\n",
            "ony #\n",
            "\n",
            "NCE i —-NAE : AA —NeW #\n",
            "\n",
            "NERF Gt Phage NAA! Ma:\n",
            "NER PLN | BLL VERE se tO +\n",
            "RAREE 1 Nmerdarg + Nir + Nat-cea +\n",
            "Nokes + Ad! Oy: AFP HCE! NOL +\n",
            "MHA | P7227 © OLE 4\n",
            "\n",
            "NGL LEE eme s oomee + ag\n",
            "Lok + COL pamENT © Le #\n",
            "\n",
            "Gk 1 TE om + Pxans neTA\n",
            "POs GT PETC MCL OTT ABT\n",
            "(ene Lt 2 ne) 2\n",
            "\n",
            "NéSL.1 (MCRL) F eos age my\n",
            "herhags acer\n",
            "\n",
            "ACES EF amo + oor 2 NEL:\n",
            "ORAT # UG! PRET # Abana\n",
            "\n",
            "OGESS =F NCHA? ences: ¢ag sen\n",
            "aos IRE RE! The ACR\n",
            "\n",
            "NELL ! eho + age #\n",
            "\n",
            "ANCES F anes: ARTs ANOe +\n",
            "\n",
            "PINCLL FE opacs + oVpge s OTA\n",
            "ahs\n",
            "\n",
            "OCLF E feb aBAe + on + 907,\n",
            "oe ams Toer ae 2\n",
            "\n",
            "OCE Lot Mhdck) Aw@-é# + hart +\n",
            "\n",
            "FPN NAT PTLD\n",
            "NéW + AZH) i mesa:\n",
            "Amom ! WAAL MAy! OL: OFF + HI\n",
            "PAPA ROAD 2 NCATE * ERE AL #\n",
            "\n",
            "A se ed a\n",
            "AL © chong, «\n",
            "\n",
            "Nein + (IF) E enens eonaca:\n",
            "PLAee FE MENE 2 MB: ME + OTE:\n",
            "one «=\n",
            "\n",
            "MH i aram: Wad: Fada o\n",
            "\n",
            "NLU F ausn : wry + havip +\n",
            "OT TIN FIC + MOH + cote ily + fund +\n",
            "Pata &\n",
            "\n",
            "PULAU F ned orduder sod &\n",
            "\n",
            "ANH =F ANee + Add + Adie #\n",
            "\n",
            "ANNCH F nee + AaRer + Ad\n",
            "+H AdNMAM «\n",
            "\n",
            "ANNE ranrars mesa +\n",
            "\n",
            "NW? raneny s Inn #\n",
            "\n",
            "TNH: (NCH) E -tramam: tn\n",
            "AATNGL: AA ®\n",
            "\n",
            "ANEW = ponnen ga: oys enc a\n",
            "(rc) TEA! (EH) FE ernen + eter\n",
            "PAT FATA + (PKA) @\n",
            "\n",
            "MCW wre ci ercgs mai ead\n",
            "AC OMT TOLP : Ce MEAT + (Ag) #\n",
            "\n",
            "PNLH f once: + amen =\n",
            "\n",
            "EACH i ppnba: beaAe s -PhaAd #\n",
            "\n",
            "GOL i ovpnpa +s omgan> »\n",
            "\n",
            "PULY t monge s mgannse +\n",
            "\n",
            "HNECHE ernen: eon o\n",
            "\n",
            "ANCHE poada: KLaAe © AHA #\n",
            "\n",
            "ANGHACE pacns eergacni nade a\n",
            "\n",
            "PINEM Ferbane: 1e.ant 0\n",
            "\n",
            "UNG Eo orbatys orenaksids 6\n",
            "\n",
            " \n",
            "\n",
            "  \n",
            "\n",
            " \n",
            "\f\n"
          ]
        }
      ]
    },
    {
      "cell_type": "markdown",
      "source": [
        "Because the above image contains non-English content, the character recognition is incorrect."
      ],
      "metadata": {
        "id": "a4VnXCoh_985"
      }
    },
    {
      "cell_type": "code",
      "source": [
        "# Amharic text image to string\n",
        "!apt-get install tesseract-ocr-amh"
      ],
      "metadata": {
        "colab": {
          "base_uri": "https://localhost:8080/"
        },
        "id": "1X1foqKZ_dMc",
        "outputId": "501e1fa2-4956-471e-a88e-ad3f962c746b"
      },
      "execution_count": 5,
      "outputs": [
        {
          "output_type": "stream",
          "name": "stdout",
          "text": [
            "Reading package lists... Done\n",
            "Building dependency tree       \n",
            "Reading state information... Done\n",
            "The following package was automatically installed and is no longer required:\n",
            "  libnvidia-common-460\n",
            "Use 'apt autoremove' to remove it.\n",
            "The following NEW packages will be installed:\n",
            "  tesseract-ocr-amh\n",
            "0 upgraded, 1 newly installed, 0 to remove and 49 not upgraded.\n",
            "Need to get 1,855 kB of archives.\n",
            "After this operation, 5,485 kB of additional disk space will be used.\n",
            "Get:1 http://archive.ubuntu.com/ubuntu bionic/universe amd64 tesseract-ocr-amh all 4.00~git24-0e00fe6-1.2 [1,855 kB]\n",
            "Fetched 1,855 kB in 1s (2,939 kB/s)\n",
            "Selecting previously unselected package tesseract-ocr-amh.\n",
            "(Reading database ... 155700 files and directories currently installed.)\n",
            "Preparing to unpack .../tesseract-ocr-amh_4.00~git24-0e00fe6-1.2_all.deb ...\n",
            "Unpacking tesseract-ocr-amh (4.00~git24-0e00fe6-1.2) ...\n",
            "Setting up tesseract-ocr-amh (4.00~git24-0e00fe6-1.2) ...\n"
          ]
        }
      ]
    },
    {
      "cell_type": "code",
      "source": [
        "!ls -ltr /usr/share/tesseract-ocr/4.00/tessdata/amh.traineddata"
      ],
      "metadata": {
        "colab": {
          "base_uri": "https://localhost:8080/"
        },
        "id": "Gzj1zfEb_kCc",
        "outputId": "680a01fa-7e86-4014-e28f-698e84c0c4ae"
      },
      "execution_count": 6,
      "outputs": [
        {
          "output_type": "stream",
          "name": "stdout",
          "text": [
            "-rw-r--r-- 1 root root 5470094 Sep 15  2017 /usr/share/tesseract-ocr/4.00/tessdata/amh.traineddata\n"
          ]
        }
      ]
    },
    {
      "cell_type": "markdown",
      "source": [
        "Step5. Detect Langauge in Ahmaric:"
      ],
      "metadata": {
        "id": "4Do2uASzFHpv"
      }
    },
    {
      "cell_type": "code",
      "source": [
        "# Amharic text image to string\n",
        "extractedInformation = pytesseract.image_to_string(Image.open('n_amargnaMezgebeQalat_194.gif'), lang='amh')\n",
        "print(extractedInformation)"
      ],
      "metadata": {
        "colab": {
          "base_uri": "https://localhost:8080/"
        },
        "id": "hLsynaRHLwI6",
        "outputId": "9bd26efa-2287-452f-c23f-6c2a4eec5c07"
      },
      "execution_count": 8,
      "outputs": [
        {
          "output_type": "stream",
          "name": "stdout",
          "text": [
            "፻28 በረጀ ፦-፦በረዘ ፤\n",
            "\n",
            "አበረደ ፤ (አብረደ) ፤ አቀዘቀዘ ፤ በረዶ ፡\n",
            "አደረገ ። እግዜር ፡ አለእሳት ‹ አነደደ ፤ አለውሃ ፡\n",
            "አበረደ።\n",
            "\n",
            "አበረዴ ፤ ጠብን ፡ ጥምን ፡ አስታገሠ ።\n",
            "\n",
            "አብራጅ ፤ ያበረደ ፡ የሚያበርድ ፡ የሚ\n",
            "ያቀዘቅዝ ፤ አቀዝቃዥ ።\n",
            "\n",
            "አብራጃ ፤ አየር ፤ ነፋሻ ፡ ቦታ ፤ ቀዝ\n",
            "ቃዛ ፡ ስፍራ ።\n",
            "\n",
            "ማብረድ ፤ ማቀዝቀዝ ፡ ማብረዝ ።\n",
            "\n",
            "ማብረጃ ፡ (ዎች) ፤ እንደ፣መንቀልና፤\n",
            "እንዶ ፡ ጥዋ ፡ ያለ ፡ ታላቅ ፡ አፈ ፡ ድስት ፡ ብርሌ፤\n",
            "የጠጅና ፡ የጠላ ፡ ማቀዝቀዣ ፡ የጥማት ፤ ማርኪያ ።\n",
            "\n",
            " \n",
            "\n",
            "ማብረጃ ፡\n",
            "\n",
            "አበራረደ ፤ መላልዕሶ፤አበረደ፤እፍፍ፤አለ።\n",
            "\n",
            "አስበረደ ፤ (አብረደ) ፤ አስቀዘቀዘ ፤\n",
            "አስበረዘ ፤ እንዲበርድ ፡ እንዲተዘቅዝ ፣ አስደረገ ።\n",
            "\n",
            "አስበራጅ ፤ ያስበረደ ፡ የሚያስበርድ ፡ የሚ\n",
            "ያስበርዝ ።\n",
            "\n",
            "ማስበረድ ፤ ሣስቀዝቀዝ ፤ ማስበረዝ ።\n",
            "\n",
            "ማስበረጃ ፤ ሣማስቀዝተዣ ፤ ማሰበረዣ ።\n",
            "\n",
            "ተባረደ ፤ ተባረዘ ፡ ተበራረዘ ፤ ተዳከመ ፤\n",
            "የኀይል  የኮልበት ፡ የመንፈሳዊ ፡ ሙቀት ።\n",
            "\n",
            "መባረድ ፤ መዳከም ፤ መጓደል ።\n",
            "\n",
            "መባረጃ ፤ መዳከሚያ ፡ መጓደያ ።\n",
            "\n",
            "አባረዶ ፤ አባረዘ ፡ አቀዛቀዘ ፤ አዳከመ ።\n",
            "\n",
            "አበራረድ ፤ አቀዛቀዝ ፤መብረድ ፡ በረዶ፣\n",
            "መኾን።\n",
            "\n",
            "በረጀ ፦፦ብልዌ ፡ አለ ፦-በረዣ ።\n",
            "\n",
            "ባሩድ ፤  ድኝና ፡ የአሐያ ከሰል፤ ጩው፣፤\n",
            "ባሩድ ፤ የሚባል ፡ ደንጊያ ፡ ባንድነት ፣ ተወቅጦ ፤\n",
            "የተደራጀ ፤ በጠመንዣና ፡ በሽጐጥ ፡ በመትረየስ ፤\n",
            "በመድፍ ፤ ቀለሕ ፤ ውስጥ ፤ በከምሱርና ፤ በዐረር፤\n",
            "መካከል ፤ የሚደረግ ፡ ዕይር ።\n",
            "\n",
            "ባሩድ ፤ ቤት ፤ የጦር ፤ መሣሪያ ፤ በያ\n",
            "ይነቱ ፤ የሚቀመጥበት ፡ ቤት ።\n",
            "\n",
            "ባሩድ ፡፤ ቤት ፤ ዐጤ ። ምኒልክ ፡ በየሻለ\n",
            "ቃው ፤ የሠሩት ፡ የቀጥር ፡ ጦር ፤ታማኝ ፡ ሰራዊት፤\n",
            "(የባሩድ ፡ ቤት ፡ ዘበኛ) ።\n",
            "\n",
            "በረደደ ፤ (በርደደይ) ፤ ረጋ ፡ ጸና ጠነ\n",
            "ከረ ፤ ከበደ፤ በረታ ።\n",
            "\n",
            "በረደደ ፤ ቀጠቀጠ ፡ መታ ። በረደደ ፡\n",
            "ዐኮልና ፡ ገቢር ፡ መኾኑን ። አስተውል ።\n",
            "\n",
            "በረደድ ፤ በርዳዳ ፤ የበረደደ ፡ የጸና ፡ የበ\n",
            "ሪታ ፡ የከበደ ፤ ጽኑ ‹ ጠንካራ ፡ ብርቱ ።\n",
            "\n",
            "በረደድ ፤ የሰው ፤ ስም ።\n",
            "\n",
            "አበረደደ ፤ አበረታ ፤ አጸና ፤ አከበዶ ።\n",
            "\n",
            "ማበርደድ ፤ ማበርታት ፤ ማጥናት ማጠ\n",
            "ንከ: ።\n",
            "\n",
            "በርዶዶ ፤ ብርቱ ፡ ኀይለኛ ፡ ራስ ፣ የሚ\n",
            "መታ ፡ ጠላ። ቨሸሎን ፡ እይ።\n",
            "\n",
            "ቦርደዴ ፤ በሐረርጌ አውራጃ ፡ ከዐዋሽ ፤\n",
            "\n",
            "፣ቀበሌ፥ በረሓ ምድረ፥ በዳ።\n",
            "\n",
            "በሪዝ ፥ በረዘ) ፤ ጠጅ፣ጣለ፣\n",
            "በጠበጠ ፤ ዘለለ ፤ ጠላን ፡ ወይም ፤ ውሃን ፤ ከማር ፤\n",
            "ቀላቀለ ፡ ደባለቀ ። በረሰንና  በረደን ‹ እይ ።\n",
            "\n",
            "በረዘ ፤ ተዝቃዛ ፤ ውሃን ፡ በፍል ፡ ውሃ፣\n",
            "ላይ ፤ መመረ።\n",
            "\n",
            "በራዥ ፡ (ገናች) ፤ የበረዘ‹ የሚበርዝ፤\n",
            "የሚበጠብጥ ፤ በጥባጭ ፡ ጠጅ ፡ ጣይ ፡ መሸተኛ ፣\n",
            "ዐጣሪ።\n",
            "\n",
            "ብረዛ ፤ ብጥበጣ ፡ ዝለላ ፡ ቅልቀላ ።\n",
            "\n",
            "መበረዝ ፤ ቀዝቃዛ ፡ ውሃን ፤ ከሙቅ ፣\n",
            "ውሃ ፡ ማግባት ፤ማርን ፡ ቤውሃ ፡ መበጥበጥ ፥ ከጠላ ፡\n",
            "መቀላቀል ።\n",
            "\n",
            "መበረዣ ፤ ማብረጃ ፡ ማተዝተዣ ፡ ውሃ።\n",
            "\n",
            "አበረዘ ፤ አበረደ ፡ አበረሰ ፤ አተዘቀዘ ።\n",
            "\n",
            "አስበረዘ ፤ በሪድ ፡ አስደረገ ፤ አስቀዘ\n",
            "ቀዘ ፤ አስበጠበጠ ።\n",
            "\n",
            "ማስበረዝ ፤ ማስበጥበጥ፡ጠጅማስጣል።\n",
            "\n",
            "ማስበረዣ'፤ ማስበጥበጣ ፡ ማስቀዝቀዣ ።\n",
            "\n",
            "ተበረዘ ፤ (ተበርዘ) ፤ ተበጠበጠ ፡ ተዘ\n",
            "ለለ ፤በረደ፡ በረሰ።\n",
            "\n",
            "ተበራዥ ፤ የሟሚበረዝ፤ፍል፤ውሃ፣ማር።\n",
            "(ጥ6) ብርዝ ፤ (ብሩዝ) ፤ የተበረዘ ፣ የተቀላ\n",
            "ቀለ ፤ ቅልቅል ፡ (ቅጽል) ።\n",
            "\n",
            "ብርዝ ፤ ውሃና ፡ ማር ፤ ማርና ፡ ጠላ ፤ የባላ\n",
            "ገር ፤ መጠጥ ፤ ወይም ፤ የጠጅ ፤ ብጥብጥ ፡ (ስም) ።\n",
            "\n",
            "መበረዝ ፤ መብረድ ፤ መብረስ ።\n",
            "\n",
            "ተባረዘ ፤ ተቀላቀለ ፡ ተደባለቀ ፡ ተካለሰ ።\n",
            "\n",
            "መባረዝ ፤ መቀላቀል ፥፤ መደባለቅ ።\n",
            "\n",
            "መባረዣ ፤ መቀላቀያ ፡ መደባለቂያ ።\n",
            "\n",
            "ተበራረዘ ፤ የተባረዘ ፡ ድርብ ።\n",
            "\n",
            "አባረዘ ፤ አቀላቀለ።፣አደባለቀ ፡ አካለሰ።\n",
            "\n",
            "አባራዥ)፤ ያባረዘ፡ የሚያባርዝ፤አቀላቃይ።\n",
            "\n",
            "ማባረዝ ፤ ማቀላቀል ፤ ማደባለቅ ።\n",
            "\n",
            "ማባረዣ ፤ ጣማተላተያ፣ማደባለቂያ፤ዕቃ።\n",
            "\n",
            " \n",
            "\n",
            "  \n",
            "\n",
            " \n",
            "\f\n"
          ]
        }
      ]
    },
    {
      "cell_type": "code",
      "source": [
        ""
      ],
      "metadata": {
        "id": "xh47QemLJnsS"
      },
      "execution_count": null,
      "outputs": []
    }
  ]
}